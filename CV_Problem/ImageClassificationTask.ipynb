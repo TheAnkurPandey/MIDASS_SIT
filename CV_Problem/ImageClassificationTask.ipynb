{
 "cells": [
  {
   "cell_type": "code",
   "execution_count": 51,
   "metadata": {},
   "outputs": [],
   "source": [
    "import numpy as np\n",
    "import pandas as pd\n",
    "\n",
    "import matplotlib.pyplot as plt\n",
    "import seaborn as sns\n",
    "\n",
    "from sklearn.model_selection import train_test_split\n",
    "\n",
    "import pickle"
   ]
  },
  {
   "cell_type": "markdown",
   "metadata": {},
   "source": [
    "# Functions for reading and writing a pickel file"
   ]
  },
  {
   "cell_type": "code",
   "execution_count": 40,
   "metadata": {},
   "outputs": [],
   "source": [
    "# Save the object in pickel file\n",
    "def save_obj(path, obj, name):\n",
    "    with open(path + '/' + name + '.pkl', 'wb') as f:\n",
    "        pickle.dump(obj, f, pickle.HIGHEST_PROTOCOL)\n",
    "\n",
    "# Read the object from pickel file\n",
    "def load_obj(path, name):\n",
    "    with open(path + '/' + name + '.pkl', 'rb') as f:\n",
    "        return pickle.load(f)"
   ]
  },
  {
   "cell_type": "markdown",
   "metadata": {},
   "source": [
    "# Load the data"
   ]
  },
  {
   "cell_type": "code",
   "execution_count": 41,
   "metadata": {},
   "outputs": [],
   "source": [
    "path = './data'\n",
    "\n",
    "X = load_obj(path, 'train_image')\n",
    "y = load_obj(path, 'train_label')"
   ]
  },
  {
   "cell_type": "markdown",
   "metadata": {},
   "source": [
    "# Convert the data into numpy array"
   ]
  },
  {
   "cell_type": "code",
   "execution_count": 42,
   "metadata": {},
   "outputs": [
    {
     "name": "stdout",
     "output_type": "stream",
     "text": [
      "dtype of X before conversion: <class 'list'>\n",
      "dtype of y before conversion: <class 'list'>\n",
      "\n",
      "Shape of data: (8000, 784)\n",
      "Shape of labels: (8000,)\n",
      "\n",
      "Number of distinct labels: [0 2 3 6]\n",
      "\n",
      "Maximum value across row: 255\n",
      "Minimum value across row: 0\n"
     ]
    }
   ],
   "source": [
    "# Lests identify the dtype of data before doing any preprocessing.\n",
    "print('dtype of X before conversion:', type(X))\n",
    "print('dtype of y before conversion:', type(y), end='\\n\\n')\n",
    "\n",
    "# Conversion into numpy array is done to make the computation faster.\n",
    "X = np.array(X)\n",
    "y = np.array(y)\n",
    "\n",
    "# Printing of shape is done to see if the row count in both data and labels do not mismatch.\n",
    "print('Shape of data:', X.shape)\n",
    "print('Shape of labels:', y.shape, end='\\n\\n')\n",
    "\n",
    "print('Number of distinct labels:', np.unique(y), end='\\n\\n')\n",
    "\n",
    "# Max and min value across row in X\n",
    "print('Maximum value across row:', np.max(X[0, :]))\n",
    "print('Minimum value across row:', np.min(X[0, :]))\n",
    "\n",
    "# Conclusion: it looks row represnts images"
   ]
  },
  {
   "cell_type": "code",
   "execution_count": 43,
   "metadata": {},
   "outputs": [],
   "source": [
    "def get_index_list_for_each_class(_1d):\n",
    "    output = {}\n",
    "    uniques = np.unique(_1d)\n",
    "    for i in uniques:\n",
    "        output[i] = [j for j in range(len(_1d)) if _1d[j] == i]\n",
    "        \n",
    "    return output"
   ]
  },
  {
   "cell_type": "code",
   "execution_count": 47,
   "metadata": {
    "scrolled": true
   },
   "outputs": [
    {
     "data": {
      "image/png": "[encoded data removed]",
      "text/plain": [
       "<Figure size 432x288 with 4 Axes>"
      ]
     },
     "metadata": {
      "needs_background": "light"
     },
     "output_type": "display_data"
    }
   ],
   "source": [
    "classwise_idx_list = get_index_list_for_each_class(y)\n",
    "\n",
    "img_class_1 = X[classwise_idx_list[0][0], :].reshape((28, 28))\n",
    "img_class_2 = X[classwise_idx_list[2][0], :].reshape((28, 28))\n",
    "img_class_3 = X[classwise_idx_list[3][0], :].reshape((28, 28))\n",
    "img_class_4 = X[classwise_idx_list[6][0], :].reshape((28, 28))\n",
    "\n",
    "plt.subplot(141)\n",
    "plt.imshow(img_class_1, cmap='gray')\n",
    "\n",
    "plt.subplot(142)\n",
    "plt.imshow(img_class_2, cmap='gray')\n",
    "\n",
    "plt.subplot(143)\n",
    "plt.imshow(img_class_3, cmap='gray')\n",
    "\n",
    "plt.subplot(144)\n",
    "plt.imshow(img_class_4, cmap='gray')\n",
    "plt.show()"
   ]
  },
  {
   "cell_type": "code",
   "execution_count": 48,
   "metadata": {},
   "outputs": [],
   "source": [
    "def count_plot(X, y, column, title):\n",
    "    ax = sns.countplot(x=column, data=X.assign(labels=np.array(y)))\n",
    "    plt.title(title)\n",
    "    plt.show()"
   ]
  },
  {
   "cell_type": "code",
   "execution_count": 50,
   "metadata": {},
   "outputs": [
    {
     "data": {
      "image/png": "[encoded data removed]",
      "text/plain": [
       "<Figure size 432x288 with 1 Axes>"
      ]
     },
     "metadata": {
      "needs_background": "light"
     },
     "output_type": "display_data"
    }
   ],
   "source": [
    "count_plot(pd.DataFrame(X), y, 'labels', 'Count plot of classes')"
   ]
  },
  {
   "cell_type": "code",
   "execution_count": 52,
   "metadata": {},
   "outputs": [],
   "source": [
    "X_train, X_test, y_train, y_test = train_test_split(X, y, test_size=0.30, random_state=0)"
   ]
  },
  {
   "cell_type": "code",
   "execution_count": 54,
   "metadata": {},
   "outputs": [
    {
     "name": "stdout",
     "output_type": "stream",
     "text": [
      "Shape of X_train: (5600, 784)\n",
      "Shape of y_train: (5600,)\n",
      "\n",
      "Shape of X_test: (2400, 784)\n",
      "Shape of y_test: (2400,)\n",
      "\n"
     ]
    }
   ],
   "source": [
    "print('Shape of X_train:', X_train.shape)\n",
    "print('Shape of y_train:', y_train.shape, end='\\n\\n')\n",
    "\n",
    "print('Shape of X_test:', X_test.shape)\n",
    "print('Shape of y_test:', y_test.shape, end='\\n\\n')"
   ]
  },
  {
   "cell_type": "code",
   "execution_count": null,
   "metadata": {},
   "outputs": [],
   "source": []
  }
 ],
 "metadata": {
  "kernelspec": {
   "display_name": "Python 3",
   "language": "python",
   "name": "python3"
  },
  "language_info": {
   "codemirror_mode": {
    "name": "ipython",
    "version": 3
   },
   "file_extension": ".py",
   "mimetype": "text/x-python",
   "name": "python",
   "nbconvert_exporter": "python",
   "pygments_lexer": "ipython3",
   "version": "3.6.7"
  }
 },
 "nbformat": 4,
 "nbformat_minor": 2
}
